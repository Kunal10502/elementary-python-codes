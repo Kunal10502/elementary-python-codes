{
 "cells": [
  {
   "cell_type": "code",
   "execution_count": 2,
   "metadata": {},
   "outputs": [
    {
     "name": "stdout",
     "output_type": "stream",
     "text": [
      "Enter a number: 80\n",
      "prime factor of 80 is 2\n",
      "prime factor of 80 is 5\n"
     ]
    }
   ],
   "source": [
    "def prime(i):\n",
    "\t\"\"\" This function finds whether a number is prime or not?\"\"\"\n",
    "\tval=False\n",
    "\tfor n in range(2,i):\n",
    "\t\tif i%n==0:\n",
    "\t\t\t\tbreak;\n",
    "\telse:\n",
    "\t    val=True\n",
    "\treturn val\n",
    "\n",
    "num=int(input(\"Enter a number: \"))\n",
    "\n",
    "\n",
    "check=False   #A check which remains false if the input number is itself a prime number  \n",
    "\n",
    "for x in range(2,num):\n",
    "    if num%x==0: \n",
    "        if prime(x)==True:\n",
    "            print (\"prime factor of {} is {}\".format(num,x))\n",
    "            check=True\n",
    "if check==False:    \n",
    "    print(\"{} itself is a prime number. So factor is {}\".format(num,num))  \n",
    "\n",
    "\n",
    "         \n",
    "\n",
    "            \n",
    "    \n",
    "        \n",
    "    "
   ]
  },
  {
   "cell_type": "code",
   "execution_count": null,
   "metadata": {},
   "outputs": [],
   "source": []
  },
  {
   "cell_type": "code",
   "execution_count": null,
   "metadata": {},
   "outputs": [],
   "source": []
  }
 ],
 "metadata": {
  "kernelspec": {
   "display_name": "Python 3",
   "language": "python",
   "name": "python3"
  },
  "language_info": {
   "codemirror_mode": {
    "name": "ipython",
    "version": 3
   },
   "file_extension": ".py",
   "mimetype": "text/x-python",
   "name": "python",
   "nbconvert_exporter": "python",
   "pygments_lexer": "ipython3",
   "version": "3.6.5"
  }
 },
 "nbformat": 4,
 "nbformat_minor": 2
}
