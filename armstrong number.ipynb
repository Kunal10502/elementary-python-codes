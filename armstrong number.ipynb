{
 "cells": [
  {
   "cell_type": "code",
   "execution_count": 11,
   "metadata": {},
   "outputs": [],
   "source": [
    "def cubesum(num):\n",
    "    \"\"\"This functions returns a sum of the cubes of individual digits\"\"\"\n",
    "    r=[];s=[];sumc=0\n",
    "    s=list(str(num)) #converts the number into a list of string\n",
    "    r=list(map(int,s)) #converts the list of string into list of integers\n",
    "    for i in r:\n",
    "        sumc=sumc+i**3\n",
    "    return(sumc)\n",
    "   \n",
    "def PrintArmstrong():\n",
    "    \"\"\"This function prints all the armstrong number from 1 to n\"\"\"\n",
    "    num1=int(input(\"enter the value of n for armstrong number search \"))\n",
    "    for i in range(num1+1):\n",
    "        if i==cubesum(i):   #checks whether i is a armstrong number. calls function cubesum()\n",
    "            print(\"{} is a armstrong number\".format(i))\n",
    "            \n",
    "def isArmstrong():\n",
    "    \"\"\"This is a function that checks whether a number is armstrong or not\"\"\"\n",
    "    num2=int(input(\"enter a number \"))\n",
    "    check=False\n",
    "    if num2==cubesum(num2):\n",
    "        check=True\n",
    "        print(\"{} is armstrong number\".format(num2))\n",
    "    else:\n",
    "            print(\"not a armstrong number\")\n",
    "            \n",
    "    \n",
    "\n",
    "    \n",
    "        \n",
    "    \n",
    "    \n",
    "\n",
    "\n",
    "  \n",
    "   \n",
    "    \n",
    "    \n",
    "\n",
    "\n",
    "    \n",
    "\n",
    "\n",
    "\n",
    "         \n",
    "\n",
    "            \n",
    "    \n",
    "        \n",
    "    "
   ]
  },
  {
   "cell_type": "code",
   "execution_count": 4,
   "metadata": {},
   "outputs": [
    {
     "data": {
      "text/plain": [
       "134"
      ]
     },
     "execution_count": 4,
     "metadata": {},
     "output_type": "execute_result"
    }
   ],
   "source": [
    "cubesum(125)\n",
    "\n",
    "\n",
    "\n",
    "\n"
   ]
  },
  {
   "cell_type": "code",
   "execution_count": 6,
   "metadata": {},
   "outputs": [
    {
     "data": {
      "text/plain": [
       "72"
      ]
     },
     "execution_count": 6,
     "metadata": {},
     "output_type": "execute_result"
    }
   ],
   "source": [
    "cubesum(24)"
   ]
  },
  {
   "cell_type": "code",
   "execution_count": 9,
   "metadata": {},
   "outputs": [
    {
     "name": "stdout",
     "output_type": "stream",
     "text": [
      "enter the value of n for armstrong number search 5000\n",
      "0 is a armstrong number\n",
      "1 is a armstrong number\n",
      "153 is a armstrong number\n",
      "370 is a armstrong number\n",
      "371 is a armstrong number\n",
      "407 is a armstrong number\n"
     ]
    }
   ],
   "source": [
    "PrintArmstrong()\n"
   ]
  },
  {
   "cell_type": "code",
   "execution_count": 13,
   "metadata": {},
   "outputs": [
    {
     "name": "stdout",
     "output_type": "stream",
     "text": [
      "enter a number 125\n",
      "not a armstrong number\n"
     ]
    }
   ],
   "source": [
    "isArmstrong()"
   ]
  },
  {
   "cell_type": "code",
   "execution_count": null,
   "metadata": {},
   "outputs": [],
   "source": []
  }
 ],
 "metadata": {
  "kernelspec": {
   "display_name": "Python 3",
   "language": "python",
   "name": "python3"
  },
  "language_info": {
   "codemirror_mode": {
    "name": "ipython",
    "version": 3
   },
   "file_extension": ".py",
   "mimetype": "text/x-python",
   "name": "python",
   "nbconvert_exporter": "python",
   "pygments_lexer": "ipython3",
   "version": "3.6.5"
  }
 },
 "nbformat": 4,
 "nbformat_minor": 2
}
