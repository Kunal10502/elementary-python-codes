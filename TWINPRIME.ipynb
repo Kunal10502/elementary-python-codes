{
 "cells": [
  {
   "cell_type": "code",
   "execution_count": 1,
   "metadata": {},
   "outputs": [
    {
     "name": "stdout",
     "output_type": "stream",
     "text": [
      "3 and 5 are prime twins\n",
      "5 and 7 are prime twins\n",
      "11 and 13 are prime twins\n",
      "17 and 19 are prime twins\n",
      "29 and 31 are prime twins\n",
      "41 and 43 are prime twins\n",
      "59 and 61 are prime twins\n",
      "71 and 73 are prime twins\n",
      "101 and 103 are prime twins\n",
      "107 and 109 are prime twins\n",
      "137 and 139 are prime twins\n",
      "149 and 151 are prime twins\n",
      "179 and 181 are prime twins\n",
      "191 and 193 are prime twins\n",
      "197 and 199 are prime twins\n",
      "227 and 229 are prime twins\n",
      "239 and 241 are prime twins\n",
      "269 and 271 are prime twins\n",
      "281 and 283 are prime twins\n",
      "311 and 313 are prime twins\n",
      "347 and 349 are prime twins\n",
      "419 and 421 are prime twins\n",
      "431 and 433 are prime twins\n",
      "461 and 463 are prime twins\n",
      "521 and 523 are prime twins\n",
      "569 and 571 are prime twins\n",
      "599 and 601 are prime twins\n",
      "617 and 619 are prime twins\n",
      "641 and 643 are prime twins\n",
      "659 and 661 are prime twins\n",
      "809 and 811 are prime twins\n",
      "821 and 823 are prime twins\n",
      "827 and 829 are prime twins\n",
      "857 and 859 are prime twins\n",
      "881 and 883 are prime twins\n"
     ]
    }
   ],
   "source": [
    "def prime(i):\n",
    "\t\"\"\" This function finds whether a number is prime or not?\"\"\"\n",
    "\tval=False\n",
    "\tfor n in range(2,i):\n",
    "\t\tif i%n==0:\n",
    "\t\t\t\tbreak;\n",
    "\telse:\n",
    "\t    val=True\n",
    "\n",
    "\n",
    "\treturn val\n",
    "for x in range(2,1000):\n",
    "\tif prime(x)==True & prime(x+2)==True:\n",
    "\t\tprint(\"{} and {} are prime twins\".format(x,x+2))"
   ]
  },
  {
   "cell_type": "code",
   "execution_count": null,
   "metadata": {},
   "outputs": [],
   "source": []
  }
 ],
 "metadata": {
  "kernelspec": {
   "display_name": "Python 3",
   "language": "python",
   "name": "python3"
  },
  "language_info": {
   "codemirror_mode": {
    "name": "ipython",
    "version": 3
   },
   "file_extension": ".py",
   "mimetype": "text/x-python",
   "name": "python",
   "nbconvert_exporter": "python",
   "pygments_lexer": "ipython3",
   "version": "3.6.5"
  }
 },
 "nbformat": 4,
 "nbformat_minor": 2
}
