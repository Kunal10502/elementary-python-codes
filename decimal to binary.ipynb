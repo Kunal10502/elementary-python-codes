{
 "cells": [
  {
   "cell_type": "code",
   "execution_count": 28,
   "metadata": {},
   "outputs": [
    {
     "name": "stdout",
     "output_type": "stream",
     "text": [
      "enter a decimal number 205\n",
      "The binary form of 205 is 11001101 \n"
     ]
    }
   ],
   "source": [
    "def divi(y):\n",
    "    \"\"\"This function returns the remainder of a number when divided by 2 \"\"\"\n",
    "    mod=y%2\n",
    "    return mod\n",
    "num=int(input(\"enter a decimal number \"))\n",
    "b=num    # Assigning the value of num to a variable b for later reference\n",
    "lst=[]   # Defining a list\n",
    "while(num>=1):\n",
    "    lst.append(divi(num)) #making a list having all the remainders when num is divided by 2 until num approaches 1\n",
    "    num=num//2\n",
    "    \n",
    "v=list(reversed(lst))      #reversing the list above to get the binary form\n",
    "str1=''.join(str(e) for e in v)  # converting the list to a string and then joining them together\n",
    "print(\"The binary form of {} is {} \".format(b,str1))\n",
    "\n",
    "\n",
    "\n",
    "\n",
    "         \n",
    "\n",
    "            \n",
    "    \n",
    "        \n",
    "    "
   ]
  },
  {
   "cell_type": "code",
   "execution_count": null,
   "metadata": {},
   "outputs": [],
   "source": []
  },
  {
   "cell_type": "code",
   "execution_count": null,
   "metadata": {},
   "outputs": [],
   "source": []
  }
 ],
 "metadata": {
  "kernelspec": {
   "display_name": "Python 3",
   "language": "python",
   "name": "python3"
  },
  "language_info": {
   "codemirror_mode": {
    "name": "ipython",
    "version": 3
   },
   "file_extension": ".py",
   "mimetype": "text/x-python",
   "name": "python",
   "nbconvert_exporter": "python",
   "pygments_lexer": "ipython3",
   "version": "3.6.5"
  }
 },
 "nbformat": 4,
 "nbformat_minor": 2
}
