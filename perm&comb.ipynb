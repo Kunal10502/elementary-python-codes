{
 "cells": [
  {
   "cell_type": "code",
   "execution_count": 10,
   "metadata": {},
   "outputs": [
    {
     "name": "stdout",
     "output_type": "stream",
     "text": [
      "enter the number of objects11\n",
      "how many object to consider at a time3\n",
      "The permutation and combination of 11 taken 3 at a time are 990.0 and 165.0 respectively\n"
     ]
    }
   ],
   "source": [
    "def fact(num):\n",
    "    \"\"\"This function returns factorial of a number\"\"\"\n",
    "    fct=1\n",
    "    for i in range(1,num+1):\n",
    "        fct=fct*i\n",
    "    return fct  \n",
    "#permutation and combination of n objects taken r at a time\n",
    "n=int(input(\"enter the number of objects\"))\n",
    "r=int(input(\"how many object to consider at a time\"))\n",
    "perm=fact(n)/fact(n-r)\n",
    "comb=perm/fact(r)\n",
    "print(\"The permutation and combination of {} taken {} at a time are {} and {} respectively\".format(n,r,perm,comb))\n",
    "    \n"
   ]
  },
  {
   "cell_type": "code",
   "execution_count": 7,
   "metadata": {},
   "outputs": [
    {
     "data": {
      "text/plain": [
       "120"
      ]
     },
     "execution_count": 7,
     "metadata": {},
     "output_type": "execute_result"
    }
   ],
   "source": [
    "fact(5)\n"
   ]
  },
  {
   "cell_type": "code",
   "execution_count": null,
   "metadata": {},
   "outputs": [],
   "source": []
  }
 ],
 "metadata": {
  "kernelspec": {
   "display_name": "Python 3",
   "language": "python",
   "name": "python3"
  },
  "language_info": {
   "codemirror_mode": {
    "name": "ipython",
    "version": 3
   },
   "file_extension": ".py",
   "mimetype": "text/x-python",
   "name": "python",
   "nbconvert_exporter": "python",
   "pygments_lexer": "ipython3",
   "version": "3.6.5"
  }
 },
 "nbformat": 4,
 "nbformat_minor": 2
}
